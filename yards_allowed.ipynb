{
 "cells": [
  {
   "cell_type": "code",
   "execution_count": 1,
   "metadata": {},
   "outputs": [],
   "source": [
    "import pandas as pd\n",
    "import networkx as nx\n",
    "import matplotlib as plt\n",
    "from sklearn.metrics.pairwise import cosine_similarity\n",
    "from sklearn.preprocessing import MinMaxScaler"
   ]
  },
  {
   "cell_type": "code",
   "execution_count": 2,
   "metadata": {},
   "outputs": [
    {
     "data": {
      "text/html": [
       "<div>\n",
       "<style scoped>\n",
       "    .dataframe tbody tr th:only-of-type {\n",
       "        vertical-align: middle;\n",
       "    }\n",
       "\n",
       "    .dataframe tbody tr th {\n",
       "        vertical-align: top;\n",
       "    }\n",
       "\n",
       "    .dataframe thead th {\n",
       "        text-align: right;\n",
       "    }\n",
       "</style>\n",
       "<table border=\"1\" class=\"dataframe\">\n",
       "  <thead>\n",
       "    <tr style=\"text-align: right;\">\n",
       "      <th></th>\n",
       "      <th>Team</th>\n",
       "      <th>Opp Rush Yards Alloweed</th>\n",
       "      <th>Opp Pass Yds Allowed</th>\n",
       "    </tr>\n",
       "  </thead>\n",
       "  <tbody>\n",
       "    <tr>\n",
       "      <th>0</th>\n",
       "      <td>Tennessee (SEC)</td>\n",
       "      <td>1505</td>\n",
       "      <td>3764</td>\n",
       "    </tr>\n",
       "    <tr>\n",
       "      <th>1</th>\n",
       "      <td>Washington (Pac-12)</td>\n",
       "      <td>1576</td>\n",
       "      <td>3269</td>\n",
       "    </tr>\n",
       "    <tr>\n",
       "      <th>2</th>\n",
       "      <td>Southern California (Pac-12)</td>\n",
       "      <td>2237</td>\n",
       "      <td>3698</td>\n",
       "    </tr>\n",
       "    <tr>\n",
       "      <th>3</th>\n",
       "      <td>UCLA (Pac-12)</td>\n",
       "      <td>1689</td>\n",
       "      <td>3549</td>\n",
       "    </tr>\n",
       "    <tr>\n",
       "      <th>4</th>\n",
       "      <td>Georgia (SEC)</td>\n",
       "      <td>1156</td>\n",
       "      <td>3296</td>\n",
       "    </tr>\n",
       "    <tr>\n",
       "      <th>...</th>\n",
       "      <td>...</td>\n",
       "      <td>...</td>\n",
       "      <td>...</td>\n",
       "    </tr>\n",
       "    <tr>\n",
       "      <th>126</th>\n",
       "      <td>Rutgers (Big Ten)</td>\n",
       "      <td>1715</td>\n",
       "      <td>2482</td>\n",
       "    </tr>\n",
       "    <tr>\n",
       "      <th>127</th>\n",
       "      <td>Colorado (Pac-12)</td>\n",
       "      <td>2941</td>\n",
       "      <td>3176</td>\n",
       "    </tr>\n",
       "    <tr>\n",
       "      <th>128</th>\n",
       "      <td>Massachusetts (FBS Independent)</td>\n",
       "      <td>2332</td>\n",
       "      <td>2103</td>\n",
       "    </tr>\n",
       "    <tr>\n",
       "      <th>129</th>\n",
       "      <td>Iowa (Big Ten)</td>\n",
       "      <td>1317</td>\n",
       "      <td>2203</td>\n",
       "    </tr>\n",
       "    <tr>\n",
       "      <th>130</th>\n",
       "      <td>New Mexico (Mountain West)</td>\n",
       "      <td>1889</td>\n",
       "      <td>2433</td>\n",
       "    </tr>\n",
       "  </tbody>\n",
       "</table>\n",
       "<p>131 rows × 3 columns</p>\n",
       "</div>"
      ],
      "text/plain": [
       "                                Team  Opp Rush Yards Alloweed  \\\n",
       "0                    Tennessee (SEC)                     1505   \n",
       "1                Washington (Pac-12)                     1576   \n",
       "2       Southern California (Pac-12)                     2237   \n",
       "3                      UCLA (Pac-12)                     1689   \n",
       "4                      Georgia (SEC)                     1156   \n",
       "..                               ...                      ...   \n",
       "126                Rutgers (Big Ten)                     1715   \n",
       "127                Colorado (Pac-12)                     2941   \n",
       "128  Massachusetts (FBS Independent)                     2332   \n",
       "129                   Iowa (Big Ten)                     1317   \n",
       "130       New Mexico (Mountain West)                     1889   \n",
       "\n",
       "     Opp Pass Yds Allowed  \n",
       "0                    3764  \n",
       "1                    3269  \n",
       "2                    3698  \n",
       "3                    3549  \n",
       "4                    3296  \n",
       "..                    ...  \n",
       "126                  2482  \n",
       "127                  3176  \n",
       "128                  2103  \n",
       "129                  2203  \n",
       "130                  2433  \n",
       "\n",
       "[131 rows x 3 columns]"
      ]
     },
     "execution_count": 2,
     "metadata": {},
     "output_type": "execute_result"
    }
   ],
   "source": [
    "teams_df = pd.read_csv(\"cfb22.csv\")\n",
    "stats_df = teams_df[['Team','Opp Rush Yards Alloweed', 'Opp Pass Yds Allowed']]\n",
    "stats_df"
   ]
  },
  {
   "cell_type": "code",
   "execution_count": 3,
   "metadata": {},
   "outputs": [
    {
     "data": {
      "text/html": [
       "<div>\n",
       "<style scoped>\n",
       "    .dataframe tbody tr th:only-of-type {\n",
       "        vertical-align: middle;\n",
       "    }\n",
       "\n",
       "    .dataframe tbody tr th {\n",
       "        vertical-align: top;\n",
       "    }\n",
       "\n",
       "    .dataframe thead th {\n",
       "        text-align: right;\n",
       "    }\n",
       "</style>\n",
       "<table border=\"1\" class=\"dataframe\">\n",
       "  <thead>\n",
       "    <tr style=\"text-align: right;\">\n",
       "      <th></th>\n",
       "      <th>Opp Rush Yards Alloweed</th>\n",
       "      <th>Opp Pass Yds Allowed</th>\n",
       "      <th>Team</th>\n",
       "    </tr>\n",
       "  </thead>\n",
       "  <tbody>\n",
       "    <tr>\n",
       "      <th>0</th>\n",
       "      <td>0.296523</td>\n",
       "      <td>0.887324</td>\n",
       "      <td>Tennessee (SEC)</td>\n",
       "    </tr>\n",
       "    <tr>\n",
       "      <th>1</th>\n",
       "      <td>0.329887</td>\n",
       "      <td>0.654930</td>\n",
       "      <td>Washington (Pac-12)</td>\n",
       "    </tr>\n",
       "    <tr>\n",
       "      <th>2</th>\n",
       "      <td>0.640508</td>\n",
       "      <td>0.856338</td>\n",
       "      <td>Southern California (Pac-12)</td>\n",
       "    </tr>\n",
       "    <tr>\n",
       "      <th>3</th>\n",
       "      <td>0.382989</td>\n",
       "      <td>0.786385</td>\n",
       "      <td>UCLA (Pac-12)</td>\n",
       "    </tr>\n",
       "    <tr>\n",
       "      <th>4</th>\n",
       "      <td>0.132519</td>\n",
       "      <td>0.667606</td>\n",
       "      <td>Georgia (SEC)</td>\n",
       "    </tr>\n",
       "  </tbody>\n",
       "</table>\n",
       "</div>"
      ],
      "text/plain": [
       "   Opp Rush Yards Alloweed  Opp Pass Yds Allowed                          Team\n",
       "0                 0.296523              0.887324               Tennessee (SEC)\n",
       "1                 0.329887              0.654930           Washington (Pac-12)\n",
       "2                 0.640508              0.856338  Southern California (Pac-12)\n",
       "3                 0.382989              0.786385                 UCLA (Pac-12)\n",
       "4                 0.132519              0.667606                 Georgia (SEC)"
      ]
     },
     "execution_count": 3,
     "metadata": {},
     "output_type": "execute_result"
    }
   ],
   "source": [
    "scaler = MinMaxScaler()\n",
    "cols_to_normalize = [col for col in stats_df.columns if pd.api.types.is_numeric_dtype(teams_df[col])]\n",
    "df_normalized = pd.DataFrame(stats_df[cols_to_normalize])\n",
    "df_normalized[cols_to_normalize] = scaler.fit_transform(df_normalized[cols_to_normalize])\n",
    "df_normalized = pd.concat([df_normalized, stats_df.drop(columns=cols_to_normalize)], axis=1)\n",
    "df_normalized.head()"
   ]
  },
  {
   "cell_type": "code",
   "execution_count": 4,
   "metadata": {},
   "outputs": [
    {
     "data": {
      "text/plain": [
       "<AxesSubplot:xlabel='Rush Yds', ylabel='Pass Yards'>"
      ]
     },
     "execution_count": 4,
     "metadata": {},
     "output_type": "execute_result"
    },
    {
     "data": {
      "image/png": "[encoded data removed]",
      "text/plain": [
       "<Figure size 432x288 with 1 Axes>"
      ]
     },
     "metadata": {
      "needs_background": "light"
     },
     "output_type": "display_data"
    }
   ],
   "source": [
    "teams_df.plot.scatter(x='Opp Rush Yards Alloweed',y='Opp Pass Yds Allowed')"
   ]
  }
 ],
 "metadata": {
  "kernelspec": {
   "display_name": "Python 3",
   "language": "python",
   "name": "python3"
  },
  "language_info": {
   "codemirror_mode": {
    "name": "ipython",
    "version": 3
   },
   "file_extension": ".py",
   "mimetype": "text/x-python",
   "name": "python",
   "nbconvert_exporter": "python",
   "pygments_lexer": "ipython3",
   "version": "3.10.10"
  },
  "orig_nbformat": 4
 },
 "nbformat": 4,
 "nbformat_minor": 2
}
