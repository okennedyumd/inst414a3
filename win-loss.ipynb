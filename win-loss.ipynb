{
 "cells": [
  {
   "cell_type": "code",
   "execution_count": 2,
   "metadata": {},
   "outputs": [],
   "source": [
    "import pandas as pd\n",
    "import networkx as nx\n",
    "import matplotlib as plt\n",
    "import cfbd\n",
    "from sklearn.metrics.pairwise import cosine_distances, euclidean_distances"
   ]
  },
  {
   "cell_type": "code",
   "execution_count": 3,
   "metadata": {},
   "outputs": [],
   "source": [
    "configuration = cfbd.Configuration()\n",
    "configuration.api_key['Authorization'] = 'YJ5gLZjtsR9KtIihcsBr50B+fdpMMkb2vPwmN+NSP1H8Iyf1a4x8d+LdBPe3CAHl'\n",
    "configuration.api_key_prefix['Authorization'] = 'Bearer'"
   ]
  },
  {
   "cell_type": "code",
   "execution_count": 19,
   "metadata": {},
   "outputs": [
    {
     "name": "stderr",
     "output_type": "stream",
     "text": [
      "C:\\Users\\owenj\\AppData\\Local\\Temp\\ipykernel_9256\\3864434985.py:8: FutureWarning: The frame.append method is deprecated and will be removed from pandas in a future version. Use pandas.concat instead.\n",
      "  stats_df = stats_df.append({'team': team, 'win percentage': team_per}, ignore_index=True)\n",
      "C:\\Users\\owenj\\AppData\\Local\\Temp\\ipykernel_9256\\3864434985.py:8: FutureWarning: The frame.append method is deprecated and will be removed from pandas in a future version. Use pandas.concat instead.\n",
      "  stats_df = stats_df.append({'team': team, 'win percentage': team_per}, ignore_index=True)\n",
      "C:\\Users\\owenj\\AppData\\Local\\Temp\\ipykernel_9256\\3864434985.py:8: FutureWarning: The frame.append method is deprecated and will be removed from pandas in a future version. Use pandas.concat instead.\n",
      "  stats_df = stats_df.append({'team': team, 'win percentage': team_per}, ignore_index=True)\n",
      "C:\\Users\\owenj\\AppData\\Local\\Temp\\ipykernel_9256\\3864434985.py:8: FutureWarning: The frame.append method is deprecated and will be removed from pandas in a future version. Use pandas.concat instead.\n",
      "  stats_df = stats_df.append({'team': team, 'win percentage': team_per}, ignore_index=True)\n",
      "C:\\Users\\owenj\\AppData\\Local\\Temp\\ipykernel_9256\\3864434985.py:8: FutureWarning: The frame.append method is deprecated and will be removed from pandas in a future version. Use pandas.concat instead.\n",
      "  stats_df = stats_df.append({'team': team, 'win percentage': team_per}, ignore_index=True)\n",
      "C:\\Users\\owenj\\AppData\\Local\\Temp\\ipykernel_9256\\3864434985.py:8: FutureWarning: The frame.append method is deprecated and will be removed from pandas in a future version. Use pandas.concat instead.\n",
      "  stats_df = stats_df.append({'team': team, 'win percentage': team_per}, ignore_index=True)\n",
      "C:\\Users\\owenj\\AppData\\Local\\Temp\\ipykernel_9256\\3864434985.py:8: FutureWarning: The frame.append method is deprecated and will be removed from pandas in a future version. Use pandas.concat instead.\n",
      "  stats_df = stats_df.append({'team': team, 'win percentage': team_per}, ignore_index=True)\n",
      "C:\\Users\\owenj\\AppData\\Local\\Temp\\ipykernel_9256\\3864434985.py:8: FutureWarning: The frame.append method is deprecated and will be removed from pandas in a future version. Use pandas.concat instead.\n",
      "  stats_df = stats_df.append({'team': team, 'win percentage': team_per}, ignore_index=True)\n",
      "C:\\Users\\owenj\\AppData\\Local\\Temp\\ipykernel_9256\\3864434985.py:8: FutureWarning: The frame.append method is deprecated and will be removed from pandas in a future version. Use pandas.concat instead.\n",
      "  stats_df = stats_df.append({'team': team, 'win percentage': team_per}, ignore_index=True)\n",
      "C:\\Users\\owenj\\AppData\\Local\\Temp\\ipykernel_9256\\3864434985.py:8: FutureWarning: The frame.append method is deprecated and will be removed from pandas in a future version. Use pandas.concat instead.\n",
      "  stats_df = stats_df.append({'team': team, 'win percentage': team_per}, ignore_index=True)\n",
      "C:\\Users\\owenj\\AppData\\Local\\Temp\\ipykernel_9256\\3864434985.py:8: FutureWarning: The frame.append method is deprecated and will be removed from pandas in a future version. Use pandas.concat instead.\n",
      "  stats_df = stats_df.append({'team': team, 'win percentage': team_per}, ignore_index=True)\n",
      "C:\\Users\\owenj\\AppData\\Local\\Temp\\ipykernel_9256\\3864434985.py:8: FutureWarning: The frame.append method is deprecated and will be removed from pandas in a future version. Use pandas.concat instead.\n",
      "  stats_df = stats_df.append({'team': team, 'win percentage': team_per}, ignore_index=True)\n",
      "C:\\Users\\owenj\\AppData\\Local\\Temp\\ipykernel_9256\\3864434985.py:8: FutureWarning: The frame.append method is deprecated and will be removed from pandas in a future version. Use pandas.concat instead.\n",
      "  stats_df = stats_df.append({'team': team, 'win percentage': team_per}, ignore_index=True)\n",
      "C:\\Users\\owenj\\AppData\\Local\\Temp\\ipykernel_9256\\3864434985.py:8: FutureWarning: The frame.append method is deprecated and will be removed from pandas in a future version. Use pandas.concat instead.\n",
      "  stats_df = stats_df.append({'team': team, 'win percentage': team_per}, ignore_index=True)\n"
     ]
    }
   ],
   "source": [
    "api_instance = cfbd.GamesApi(cfbd.ApiClient(configuration))\n",
    "records = api_instance.get_team_records(year=2022, conference='SEC')\n",
    "stats_df = pd.DataFrame()\n",
    "stats_df = pd.DataFrame(columns=['team', 'win percentage','passing'])\n",
    "for k in records:\n",
    "    team = k.team\n",
    "    team_per = round(k.total.wins / k.total.games, 3)\n",
    "    stats_df = stats_df.append({'team': team, 'win percentage': team_per}, ignore_index=True)"
   ]
  },
  {
   "cell_type": "code",
   "execution_count": null,
   "metadata": {},
   "outputs": [],
   "source": [
    "def find_similar_teams(team_name, df, feature_df, sim_metric):\n",
    "    player = feature_df.loc[team_name]\n",
    "    dist = sim_metric(feature_df, [player])[:, 0]\n",
    "    query_distances = list(zip(feature_df.index, dist))\n",
    "    \n",
    "    for similar_player_id, similarity_score in sorted(query_distances, key=lambda x: x[1])[:11]:\n",
    "        similar_player = df.loc[similar_player_id, 'short_name']\n",
    "        print(similar_player_id, similar_player, similarity_score)\n",
    "\n"
   ]
  },
  {
   "cell_type": "code",
   "execution_count": 22,
   "metadata": {},
   "outputs": [
    {
     "data": {
      "text/plain": [
       "<bound method NDFrame.head of                                                      0\n",
       "0    {'id': 401403853,\\n 'teams': [{'conference': '...\n",
       "1    {'id': 401403856,\\n 'teams': [{'conference': '...\n",
       "2    {'id': 401403854,\\n 'teams': [{'conference': '...\n",
       "3    {'id': 401403865,\\n 'teams': [{'conference': '...\n",
       "4    {'id': 401403866,\\n 'teams': [{'conference': '...\n",
       "..                                                 ...\n",
       "108  {'id': 401403944,\\n 'teams': [{'conference': '...\n",
       "109  {'id': 401403935,\\n 'teams': [{'conference': '...\n",
       "110  {'id': 401403942,\\n 'teams': [{'conference': '...\n",
       "111  {'id': 401403945,\\n 'teams': [{'conference': '...\n",
       "112  {'id': 401403943,\\n 'teams': [{'conference': '...\n",
       "\n",
       "[113 rows x 1 columns]>"
      ]
     },
     "execution_count": 22,
     "metadata": {},
     "output_type": "execute_result"
    }
   ],
   "source": [
    "stats = api_instance.get_team_game_stats(year=2022,conference='SEC')\n",
    "for k in stats:\n",
    "    passing = k.passing\n",
    "    stats_df = stats_df.append({'team': team, 'win percentage': team_per}, ignore_index=True)\n"
   ]
  }
 ],
 "metadata": {
  "kernelspec": {
   "display_name": "Python 3",
   "language": "python",
   "name": "python3"
  },
  "language_info": {
   "codemirror_mode": {
    "name": "ipython",
    "version": 3
   },
   "file_extension": ".py",
   "mimetype": "text/x-python",
   "name": "python",
   "nbconvert_exporter": "python",
   "pygments_lexer": "ipython3",
   "version": "3.10.10"
  },
  "orig_nbformat": 4
 },
 "nbformat": 4,
 "nbformat_minor": 2
}
